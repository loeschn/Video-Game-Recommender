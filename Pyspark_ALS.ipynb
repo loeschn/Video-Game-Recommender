{
 "cells": [
  {
   "cell_type": "code",
   "execution_count": 33,
   "metadata": {},
   "outputs": [],
   "source": [
    "import pandas as pd\n",
    "import numpy as np\n",
    "from src.make_preference_matrix import make_preference_df\n",
    "from pyspark.ml.recommendation import ALS\n",
    "from pyspark.ml.evaluation import RegressionEvaluator"
   ]
  },
  {
   "cell_type": "code",
   "execution_count": 34,
   "metadata": {},
   "outputs": [],
   "source": [
    "df=make_preference_df()"
   ]
  },
  {
   "cell_type": "code",
   "execution_count": 35,
   "metadata": {},
   "outputs": [
    {
     "data": {
      "text/html": [
       "<div>\n",
       "<style scoped>\n",
       "    .dataframe tbody tr th:only-of-type {\n",
       "        vertical-align: middle;\n",
       "    }\n",
       "\n",
       "    .dataframe tbody tr th {\n",
       "        vertical-align: top;\n",
       "    }\n",
       "\n",
       "    .dataframe thead th {\n",
       "        text-align: right;\n",
       "    }\n",
       "</style>\n",
       "<table border=\"1\" class=\"dataframe\">\n",
       "  <thead>\n",
       "    <tr style=\"text-align: right;\">\n",
       "      <th></th>\n",
       "      <th>_id</th>\n",
       "      <th>game_id</th>\n",
       "      <th>score</th>\n",
       "      <th>user_id</th>\n",
       "      <th>game_number</th>\n",
       "      <th>user_number</th>\n",
       "    </tr>\n",
       "  </thead>\n",
       "  <tbody>\n",
       "    <tr>\n",
       "      <th>0</th>\n",
       "      <td>5c09771d933dea68aaeebb68</td>\n",
       "      <td>Grand Theft Auto V</td>\n",
       "      <td>8</td>\n",
       "      <td>J4MESOX4D</td>\n",
       "      <td>698</td>\n",
       "      <td>18776</td>\n",
       "    </tr>\n",
       "    <tr>\n",
       "      <th>1</th>\n",
       "      <td>5c09771d933dea68aaeebb69</td>\n",
       "      <td>Grand Theft Auto V</td>\n",
       "      <td>7</td>\n",
       "      <td>CardinalStorm</td>\n",
       "      <td>698</td>\n",
       "      <td>2369</td>\n",
       "    </tr>\n",
       "    <tr>\n",
       "      <th>2</th>\n",
       "      <td>5c09771d933dea68aaeebb6a</td>\n",
       "      <td>Grand Theft Auto V</td>\n",
       "      <td>10</td>\n",
       "      <td>DareJedi</td>\n",
       "      <td>698</td>\n",
       "      <td>9191</td>\n",
       "    </tr>\n",
       "    <tr>\n",
       "      <th>3</th>\n",
       "      <td>5c09771d933dea68aaeebb6b</td>\n",
       "      <td>Grand Theft Auto V</td>\n",
       "      <td>4</td>\n",
       "      <td>MaxBenevolent</td>\n",
       "      <td>698</td>\n",
       "      <td>22207</td>\n",
       "    </tr>\n",
       "    <tr>\n",
       "      <th>4</th>\n",
       "      <td>5c09771d933dea68aaeebb6c</td>\n",
       "      <td>Grand Theft Auto V</td>\n",
       "      <td>3</td>\n",
       "      <td>BVGNOfficial</td>\n",
       "      <td>698</td>\n",
       "      <td>37691</td>\n",
       "    </tr>\n",
       "  </tbody>\n",
       "</table>\n",
       "</div>"
      ],
      "text/plain": [
       "                        _id             game_id  score        user_id  \\\n",
       "0  5c09771d933dea68aaeebb68  Grand Theft Auto V      8      J4MESOX4D   \n",
       "1  5c09771d933dea68aaeebb69  Grand Theft Auto V      7  CardinalStorm   \n",
       "2  5c09771d933dea68aaeebb6a  Grand Theft Auto V     10       DareJedi   \n",
       "3  5c09771d933dea68aaeebb6b  Grand Theft Auto V      4  MaxBenevolent   \n",
       "4  5c09771d933dea68aaeebb6c  Grand Theft Auto V      3   BVGNOfficial   \n",
       "\n",
       "   game_number  user_number  \n",
       "0          698        18776  \n",
       "1          698         2369  \n",
       "2          698         9191  \n",
       "3          698        22207  \n",
       "4          698        37691  "
      ]
     },
     "execution_count": 35,
     "metadata": {},
     "output_type": "execute_result"
    }
   ],
   "source": [
    "df.head()"
   ]
  },
  {
   "cell_type": "code",
   "execution_count": 36,
   "metadata": {},
   "outputs": [],
   "source": [
    "#print(len(df.user_id.unique()), len(df.game_id.unique()))"
   ]
  },
  {
   "cell_type": "markdown",
   "metadata": {},
   "source": [
    "Unique users : 40641\n",
    "\n",
    "Unique games : 1587"
   ]
  },
  {
   "cell_type": "code",
   "execution_count": 37,
   "metadata": {},
   "outputs": [],
   "source": [
    "spark_df=spark.createDataFrame(df[['game_number', 'user_number', 'score']])"
   ]
  },
  {
   "cell_type": "code",
   "execution_count": 38,
   "metadata": {},
   "outputs": [
    {
     "name": "stdout",
     "output_type": "stream",
     "text": [
      "+-----------+-----------+-----+\n",
      "|game_number|user_number|score|\n",
      "+-----------+-----------+-----+\n",
      "|        698|      18776|    8|\n",
      "|        698|       2369|    7|\n",
      "|        698|       9191|   10|\n",
      "|        698|      22207|    4|\n",
      "|        698|      37691|    3|\n",
      "|        698|       2024|    2|\n",
      "|        698|      36719|    7|\n",
      "|        698|      31522|    5|\n",
      "|        698|       7008|    7|\n",
      "|        698|      39936|    7|\n",
      "|        698|      40272|   10|\n",
      "|        698|       2844|   10|\n",
      "|        698|       1281|   10|\n",
      "|        698|      25589|    8|\n",
      "|        698|      36328|    8|\n",
      "|        698|      33219|    8|\n",
      "|        698|       5031|   10|\n",
      "|        698|      24195|    8|\n",
      "|        698|       1608|   10|\n",
      "|        698|      16248|   10|\n",
      "+-----------+-----------+-----+\n",
      "only showing top 20 rows\n",
      "\n"
     ]
    }
   ],
   "source": [
    "spark_df.show()"
   ]
  },
  {
   "cell_type": "code",
   "execution_count": 39,
   "metadata": {},
   "outputs": [],
   "source": [
    "(training, test) = spark_df.randomSplit([0.8, 0.2])"
   ]
  },
  {
   "cell_type": "code",
   "execution_count": 40,
   "metadata": {},
   "outputs": [],
   "source": [
    "als = ALS(maxIter=15, \n",
    "          regParam=0.5, \n",
    "          rank=100,\n",
    "          userCol=\"user_number\",\n",
    "          itemCol=\"game_number\",\n",
    "          ratingCol=\"score\",\n",
    "          coldStartStrategy=\"drop\")"
   ]
  },
  {
   "cell_type": "code",
   "execution_count": 41,
   "metadata": {},
   "outputs": [],
   "source": [
    "model = als.fit(training)"
   ]
  },
  {
   "cell_type": "code",
   "execution_count": 42,
   "metadata": {},
   "outputs": [],
   "source": [
    "predictions = model.transform(test)"
   ]
  },
  {
   "cell_type": "code",
   "execution_count": 43,
   "metadata": {},
   "outputs": [],
   "source": [
    "evaluator = RegressionEvaluator(metricName=\"rmse\", \n",
    "                                labelCol=\"score\",\n",
    "                                predictionCol=\"prediction\")"
   ]
  },
  {
   "cell_type": "code",
   "execution_count": 44,
   "metadata": {},
   "outputs": [],
   "source": [
    "rmse = evaluator.evaluate(predictions)"
   ]
  },
  {
   "cell_type": "code",
   "execution_count": 45,
   "metadata": {},
   "outputs": [
    {
     "data": {
      "text/plain": [
       "3.004191452272342"
      ]
     },
     "execution_count": 45,
     "metadata": {},
     "output_type": "execute_result"
    }
   ],
   "source": [
    "rmse"
   ]
  },
  {
   "cell_type": "code",
   "execution_count": 46,
   "metadata": {},
   "outputs": [],
   "source": [
    "user_factors = model.userFactors.toPandas()\n",
    "item_factors = model.itemFactors.toPandas()"
   ]
  },
  {
   "cell_type": "code",
   "execution_count": 47,
   "metadata": {},
   "outputs": [],
   "source": [
    "item_arr=np.array(item_factors['features'].tolist())\n",
    "user_arr=np.array(user_factors['features'].tolist())"
   ]
  },
  {
   "cell_type": "markdown",
   "metadata": {},
   "source": [
    "# Create example for model to give prediction to"
   ]
  },
  {
   "cell_type": "code",
   "execution_count": 79,
   "metadata": {},
   "outputs": [],
   "source": [
    "sample1 = {'Destiny 2: Forsaken': 8,\n",
    "         \"Everybody's Golf\": 8,\n",
    "         \"XCOM 2\": 9,\n",
    "         \"NBA 2K17\": 10,\n",
    "         \"Marvel's Spider-Man\":6}\n",
    "\n",
    "sample2 = {'Far Cry 5': 8,\n",
    "         \"Madden NFL 16\": 6,\n",
    "         \"Tricky Towers\": 8,\n",
    "         \"Fallout 4\": 9,\n",
    "         \"Persona 5\":10}\n",
    "\n",
    "sample3 = {'Fallout 4': 10}"
   ]
  },
  {
   "cell_type": "code",
   "execution_count": 49,
   "metadata": {},
   "outputs": [
    {
     "name": "stdout",
     "output_type": "stream",
     "text": [
      "['Far Cry 5']\n",
      "['Madden NFL 16']\n",
      "['Tricky Towers']\n",
      "['Fallout 4']\n",
      "['Persona 5']\n"
     ]
    }
   ],
   "source": [
    "for key in sample2:\n",
    "    print(df[df['game_id']==key]['game_id'].unique())"
   ]
  },
  {
   "cell_type": "code",
   "execution_count": 50,
   "metadata": {},
   "outputs": [],
   "source": [
    "from pyspark.sql import Row\n",
    "\n",
    "def insert_user_prefs(prefs={}):\n",
    "    \"\"\"Insert a new user's scores into the spark df with the rest\n",
    "        of the user scores\n",
    "        \n",
    "        This is also completely irrelevant for giving a recommendation\n",
    "        but was a nice practice in working with spark dataframes\"\"\"\n",
    "    for key in prefs:\n",
    "        nums=[(\n",
    "            int(df[df['game_id']==key].game_number.unique()),\n",
    "            len(df.user_id.unique())+1,\n",
    "            sample[key]\n",
    "               )]\n",
    "        \n",
    "        rdd=sc.parallelize(nums)\n",
    "        entry=Row('game_number', 'user_number', 'score')\n",
    "        new=rdd.map(lambda x: entry(*x))\n",
    "\n",
    "        new_row=spark.createDataFrame(new)\n",
    "\n",
    "        spark_df=spark_df.union(new_row)\n",
    "    \n",
    "    \n",
    "# 'Game ID':  int(df[df['game_id']==key].game_number.unique()),\n",
    "# 'USER ID':  len(df.user_id.unique())+1,\n",
    "# 'SCORE':    sample[key])"
   ]
  },
  {
   "cell_type": "code",
   "execution_count": 51,
   "metadata": {},
   "outputs": [],
   "source": [
    "def create_user_vector(prefs={}, item_factors=item_arr):\n",
    "    game_ids=[]\n",
    "    scores=[]\n",
    "    for key in prefs:\n",
    "        game_ids.append(int(df[df['game_id']==key].game_number.unique()))\n",
    "        scores.append(prefs[key])\n",
    "    ratings=np.array(scores)\n",
    "    \n",
    "    return ratings, item_factors[game_ids], game_ids"
   ]
  },
  {
   "cell_type": "code",
   "execution_count": 80,
   "metadata": {},
   "outputs": [],
   "source": [
    "scores_vec, user_item_arr, game_ids = create_user_vector(prefs=sample3)"
   ]
  },
  {
   "cell_type": "code",
   "execution_count": 81,
   "metadata": {},
   "outputs": [
    {
     "data": {
      "text/plain": [
       "((1,), (1, 100))"
      ]
     },
     "execution_count": 81,
     "metadata": {},
     "output_type": "execute_result"
    }
   ],
   "source": [
    "scores_vec.shape, user_item_arr.shape"
   ]
  },
  {
   "cell_type": "code",
   "execution_count": 82,
   "metadata": {},
   "outputs": [],
   "source": [
    "X, residuals, rank, s =np.linalg.lstsq(user_item_arr, scores_vec, rcond=None)"
   ]
  },
  {
   "cell_type": "code",
   "execution_count": 83,
   "metadata": {},
   "outputs": [],
   "source": [
    "user_factors=X"
   ]
  },
  {
   "cell_type": "code",
   "execution_count": 84,
   "metadata": {},
   "outputs": [],
   "source": [
    "def predict_new_user(user_factors, item_arr):\n",
    "    new_factor_list = []\n",
    "    for i in range(len(item_arr)):\n",
    "        new_factor_list.append(np.dot(user_factors, item_arr[i]))\n",
    "    new_user_df = pd.DataFrame([new_factor_list], index=['new_user'])\n",
    "    return np.array(new_factor_list)"
   ]
  },
  {
   "cell_type": "code",
   "execution_count": 85,
   "metadata": {},
   "outputs": [],
   "source": [
    "test_arr = predict_new_user(user_factors, item_arr)"
   ]
  },
  {
   "cell_type": "code",
   "execution_count": 86,
   "metadata": {},
   "outputs": [],
   "source": [
    "test_arr = np.delete(test_arr, game_ids)"
   ]
  },
  {
   "cell_type": "code",
   "execution_count": 87,
   "metadata": {},
   "outputs": [
    {
     "data": {
      "text/plain": [
       "array([941, 132, 581, 593, 352])"
      ]
     },
     "execution_count": 87,
     "metadata": {},
     "output_type": "execute_result"
    }
   ],
   "source": [
    "test_arr.argsort()[-5:][::-1]"
   ]
  },
  {
   "cell_type": "code",
   "execution_count": 88,
   "metadata": {},
   "outputs": [
    {
     "name": "stdout",
     "output_type": "stream",
     "text": [
      "['Terraria'] 11.7549551803573\n",
      "['Night in the Woods'] 11.723471161077088\n",
      "['Steel Rats'] 11.634178453697391\n",
      "['F1 2018'] 11.551484758575167\n",
      "['Astro Bot: Rescue Mission'] 11.542812334587476\n"
     ]
    }
   ],
   "source": [
    "for ind in test_arr.argsort()[-5:][::-1]:\n",
    "    print(df[df['game_number']==ind]['game_id'].unique(),\n",
    "         test_arr[ind])"
   ]
  },
  {
   "cell_type": "code",
   "execution_count": null,
   "metadata": {},
   "outputs": [],
   "source": []
  },
  {
   "cell_type": "code",
   "execution_count": 2,
   "metadata": {},
   "outputs": [],
   "source": [
    "import src.spark_als"
   ]
  },
  {
   "cell_type": "code",
   "execution_count": 3,
   "metadata": {},
   "outputs": [],
   "source": [
    "new_model=src.spark_als.make_model"
   ]
  },
  {
   "cell_type": "code",
   "execution_count": 4,
   "metadata": {},
   "outputs": [
    {
     "ename": "AttributeError",
     "evalue": "'function' object has no attribute 'transform'",
     "output_type": "error",
     "traceback": [
      "\u001b[0;31m---------------------------------------------------------------------------\u001b[0m",
      "\u001b[0;31mAttributeError\u001b[0m                            Traceback (most recent call last)",
      "\u001b[0;32m<ipython-input-4-f2d2d55d6df9>\u001b[0m in \u001b[0;36m<module>\u001b[0;34m()\u001b[0m\n\u001b[0;32m----> 1\u001b[0;31m \u001b[0msrc\u001b[0m\u001b[0;34m.\u001b[0m\u001b[0mspark_als\u001b[0m\u001b[0;34m.\u001b[0m\u001b[0mevaluate_model\u001b[0m\u001b[0;34m(\u001b[0m\u001b[0mnew_model\u001b[0m\u001b[0;34m)\u001b[0m\u001b[0;34m\u001b[0m\u001b[0m\n\u001b[0m",
      "\u001b[0;32m~/galvanize/Video-Game-Recommender/src/spark_als.py\u001b[0m in \u001b[0;36mevaluate_model\u001b[0;34m(model)\u001b[0m\n\u001b[1;32m     25\u001b[0m \u001b[0;32mdef\u001b[0m \u001b[0mevaluate_model\u001b[0m\u001b[0;34m(\u001b[0m\u001b[0mmodel\u001b[0m\u001b[0;34m)\u001b[0m\u001b[0;34m:\u001b[0m\u001b[0;34m\u001b[0m\u001b[0m\n\u001b[1;32m     26\u001b[0m     \u001b[0;34m\"\"\"Returns root mean-squared error of model\"\"\"\u001b[0m\u001b[0;34m\u001b[0m\u001b[0m\n\u001b[0;32m---> 27\u001b[0;31m     \u001b[0mpredictions\u001b[0m \u001b[0;34m=\u001b[0m \u001b[0mmodel\u001b[0m\u001b[0;34m.\u001b[0m\u001b[0mtransform\u001b[0m\u001b[0;34m(\u001b[0m\u001b[0mtest\u001b[0m\u001b[0;34m)\u001b[0m\u001b[0;34m\u001b[0m\u001b[0m\n\u001b[0m\u001b[1;32m     28\u001b[0m     evaluator = RegressionEvaluator(metricName=\"rmse\",\n\u001b[1;32m     29\u001b[0m                                     \u001b[0mlabelCol\u001b[0m\u001b[0;34m=\u001b[0m\u001b[0;34m\"rating\"\u001b[0m\u001b[0;34m,\u001b[0m\u001b[0;34m\u001b[0m\u001b[0m\n",
      "\u001b[0;31mAttributeError\u001b[0m: 'function' object has no attribute 'transform'"
     ]
    }
   ],
   "source": [
    "src.spark_als.evaluate_model(new_model)"
   ]
  },
  {
   "cell_type": "code",
   "execution_count": null,
   "metadata": {},
   "outputs": [],
   "source": []
  }
 ],
 "metadata": {
  "kernelspec": {
   "display_name": "Python 3",
   "language": "python",
   "name": "python3"
  }
 },
 "nbformat": 4,
 "nbformat_minor": 2
}
