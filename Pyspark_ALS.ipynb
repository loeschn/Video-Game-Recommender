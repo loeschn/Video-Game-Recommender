{
 "cells": [
  {
   "cell_type": "code",
   "execution_count": 419,
   "metadata": {},
   "outputs": [],
   "source": [
    "import pandas as pd\n",
    "import numpy as np\n",
    "from src.make_preference_matrix import make_preference_df\n",
    "from pyspark.ml.recommendation import ALS\n",
    "from pyspark.ml.evaluation import RegressionEvaluator"
   ]
  },
  {
   "cell_type": "code",
   "execution_count": 420,
   "metadata": {},
   "outputs": [],
   "source": [
    "df=make_preference_df()"
   ]
  },
  {
   "cell_type": "code",
   "execution_count": 3,
   "metadata": {},
   "outputs": [
    {
     "data": {
      "text/html": [
       "<div>\n",
       "<style scoped>\n",
       "    .dataframe tbody tr th:only-of-type {\n",
       "        vertical-align: middle;\n",
       "    }\n",
       "\n",
       "    .dataframe tbody tr th {\n",
       "        vertical-align: top;\n",
       "    }\n",
       "\n",
       "    .dataframe thead th {\n",
       "        text-align: right;\n",
       "    }\n",
       "</style>\n",
       "<table border=\"1\" class=\"dataframe\">\n",
       "  <thead>\n",
       "    <tr style=\"text-align: right;\">\n",
       "      <th></th>\n",
       "      <th>_id</th>\n",
       "      <th>game_id</th>\n",
       "      <th>score</th>\n",
       "      <th>user_id</th>\n",
       "      <th>game_number</th>\n",
       "      <th>user_number</th>\n",
       "    </tr>\n",
       "  </thead>\n",
       "  <tbody>\n",
       "    <tr>\n",
       "      <th>0</th>\n",
       "      <td>5c09771d933dea68aaeebb68</td>\n",
       "      <td>Grand Theft Auto V</td>\n",
       "      <td>8</td>\n",
       "      <td>J4MESOX4D</td>\n",
       "      <td>698</td>\n",
       "      <td>18776</td>\n",
       "    </tr>\n",
       "    <tr>\n",
       "      <th>1</th>\n",
       "      <td>5c09771d933dea68aaeebb69</td>\n",
       "      <td>Grand Theft Auto V</td>\n",
       "      <td>7</td>\n",
       "      <td>CardinalStorm</td>\n",
       "      <td>698</td>\n",
       "      <td>2369</td>\n",
       "    </tr>\n",
       "    <tr>\n",
       "      <th>2</th>\n",
       "      <td>5c09771d933dea68aaeebb6a</td>\n",
       "      <td>Grand Theft Auto V</td>\n",
       "      <td>10</td>\n",
       "      <td>DareJedi</td>\n",
       "      <td>698</td>\n",
       "      <td>9191</td>\n",
       "    </tr>\n",
       "    <tr>\n",
       "      <th>3</th>\n",
       "      <td>5c09771d933dea68aaeebb6b</td>\n",
       "      <td>Grand Theft Auto V</td>\n",
       "      <td>4</td>\n",
       "      <td>MaxBenevolent</td>\n",
       "      <td>698</td>\n",
       "      <td>22207</td>\n",
       "    </tr>\n",
       "    <tr>\n",
       "      <th>4</th>\n",
       "      <td>5c09771d933dea68aaeebb6c</td>\n",
       "      <td>Grand Theft Auto V</td>\n",
       "      <td>3</td>\n",
       "      <td>BVGNOfficial</td>\n",
       "      <td>698</td>\n",
       "      <td>37691</td>\n",
       "    </tr>\n",
       "  </tbody>\n",
       "</table>\n",
       "</div>"
      ],
      "text/plain": [
       "                        _id             game_id  score        user_id  \\\n",
       "0  5c09771d933dea68aaeebb68  Grand Theft Auto V      8      J4MESOX4D   \n",
       "1  5c09771d933dea68aaeebb69  Grand Theft Auto V      7  CardinalStorm   \n",
       "2  5c09771d933dea68aaeebb6a  Grand Theft Auto V     10       DareJedi   \n",
       "3  5c09771d933dea68aaeebb6b  Grand Theft Auto V      4  MaxBenevolent   \n",
       "4  5c09771d933dea68aaeebb6c  Grand Theft Auto V      3   BVGNOfficial   \n",
       "\n",
       "   game_number  user_number  \n",
       "0          698        18776  \n",
       "1          698         2369  \n",
       "2          698         9191  \n",
       "3          698        22207  \n",
       "4          698        37691  "
      ]
     },
     "execution_count": 3,
     "metadata": {},
     "output_type": "execute_result"
    }
   ],
   "source": [
    "df.head()"
   ]
  },
  {
   "cell_type": "code",
   "execution_count": 4,
   "metadata": {},
   "outputs": [],
   "source": [
    "spark_df=spark.createDataFrame(df[['game_number', 'user_number', 'score']])"
   ]
  },
  {
   "cell_type": "code",
   "execution_count": 5,
   "metadata": {},
   "outputs": [
    {
     "name": "stdout",
     "output_type": "stream",
     "text": [
      "+-----------+-----------+-----+\n",
      "|game_number|user_number|score|\n",
      "+-----------+-----------+-----+\n",
      "|        698|      18776|    8|\n",
      "|        698|       2369|    7|\n",
      "|        698|       9191|   10|\n",
      "|        698|      22207|    4|\n",
      "|        698|      37691|    3|\n",
      "|        698|       2024|    2|\n",
      "|        698|      36719|    7|\n",
      "|        698|      31522|    5|\n",
      "|        698|       7008|    7|\n",
      "|        698|      39936|    7|\n",
      "|        698|      40272|   10|\n",
      "|        698|       2844|   10|\n",
      "|        698|       1281|   10|\n",
      "|        698|      25589|    8|\n",
      "|        698|      36328|    8|\n",
      "|        698|      33219|    8|\n",
      "|        698|       5031|   10|\n",
      "|        698|      24195|    8|\n",
      "|        698|       1608|   10|\n",
      "|        698|      16248|   10|\n",
      "+-----------+-----------+-----+\n",
      "only showing top 20 rows\n",
      "\n"
     ]
    }
   ],
   "source": [
    "spark_df.show()"
   ]
  },
  {
   "cell_type": "code",
   "execution_count": 358,
   "metadata": {},
   "outputs": [],
   "source": [
    "(training, test) = spark_df.randomSplit([0.8, 0.2])"
   ]
  },
  {
   "cell_type": "code",
   "execution_count": 371,
   "metadata": {},
   "outputs": [],
   "source": [
    "#(training, test) = spark_df.randomSplit([0.8, 0.2])\n",
    "\n",
    "als = ALS(maxIter=20, \n",
    "          regParam=0.75, \n",
    "          rank=100,\n",
    "          userCol=\"user_number\",\n",
    "          itemCol=\"game_number\",\n",
    "          ratingCol=\"score\",\n",
    "          coldStartStrategy=\"drop\")"
   ]
  },
  {
   "cell_type": "code",
   "execution_count": 372,
   "metadata": {},
   "outputs": [],
   "source": [
    "model = als.fit(training)"
   ]
  },
  {
   "cell_type": "code",
   "execution_count": 373,
   "metadata": {},
   "outputs": [],
   "source": [
    "predictions = model.transform(test)"
   ]
  },
  {
   "cell_type": "code",
   "execution_count": 374,
   "metadata": {},
   "outputs": [],
   "source": [
    "evaluator = RegressionEvaluator(metricName=\"rmse\", \n",
    "                                labelCol=\"score\",\n",
    "                                predictionCol=\"prediction\")"
   ]
  },
  {
   "cell_type": "code",
   "execution_count": 375,
   "metadata": {},
   "outputs": [],
   "source": [
    "rmse = evaluator.evaluate(predictions)"
   ]
  },
  {
   "cell_type": "code",
   "execution_count": 376,
   "metadata": {},
   "outputs": [
    {
     "data": {
      "text/plain": [
       "2.9458647186856104"
      ]
     },
     "execution_count": 376,
     "metadata": {},
     "output_type": "execute_result"
    }
   ],
   "source": [
    "rmse"
   ]
  },
  {
   "cell_type": "code",
   "execution_count": 421,
   "metadata": {},
   "outputs": [],
   "source": [
    "user_factors = model.userFactors.toPandas()\n",
    "item_factors = model.itemFactors.toPandas()"
   ]
  },
  {
   "cell_type": "code",
   "execution_count": 422,
   "metadata": {},
   "outputs": [],
   "source": [
    "sample = {'Destiny 2: Forsaken': 8,\n",
    "         \"Everybody's Golf\": 8,\n",
    "         \"XCOM 2\": 9,\n",
    "         \"NBA 2K17\": 10,\n",
    "         \"Marvel's Spider-Man\":6}"
   ]
  },
  {
   "cell_type": "code",
   "execution_count": 423,
   "metadata": {},
   "outputs": [],
   "source": [
    "sample_ids=[]\n",
    "for key in sample:\n",
    "    sample_ids.append(int(df[df['game_id']==key].game_number.unique()))"
   ]
  },
  {
   "cell_type": "code",
   "execution_count": 424,
   "metadata": {},
   "outputs": [
    {
     "data": {
      "text/plain": [
       "[472, 60, 49, 216, 116]"
      ]
     },
     "execution_count": 424,
     "metadata": {},
     "output_type": "execute_result"
    }
   ],
   "source": [
    "sample_ids"
   ]
  },
  {
   "cell_type": "code",
   "execution_count": 436,
   "metadata": {},
   "outputs": [],
   "source": [
    "#item_factors[item_factors['id']==472]['features'].tolist()[0]"
   ]
  },
  {
   "cell_type": "code",
   "execution_count": 451,
   "metadata": {},
   "outputs": [],
   "source": [
    "item_factors_arr=np.array(item_factors['features'].tolist())"
   ]
  },
  {
   "cell_type": "code",
   "execution_count": 455,
   "metadata": {},
   "outputs": [
    {
     "data": {
      "text/plain": [
       "array([-0.00172996, -0.3201465 , -0.069617  , -0.21138753, -0.23682658,\n",
       "       -0.29458925,  0.5124892 ,  0.04235182, -0.04884242,  0.07657851,\n",
       "        0.35035074,  0.0183627 , -0.03155093,  0.07250211,  0.11819259,\n",
       "        0.05018757, -0.04044857, -0.1220509 , -0.12729846, -0.30617869,\n",
       "       -0.35290083,  0.63772959,  0.47556904, -0.18920468,  0.00752726,\n",
       "       -0.20203499, -0.0945861 ,  0.18771589, -0.17250931,  0.1306888 ,\n",
       "       -0.34391859, -0.11467288, -0.24894902,  0.25774318,  0.36460879,\n",
       "        0.47830895,  0.35905328,  0.28451625,  0.30261901, -0.22621883,\n",
       "        0.15497528, -0.00191984,  0.14159556,  0.03377046,  0.31136963,\n",
       "        0.2107705 , -0.37906101, -0.0177942 ,  0.0665674 , -0.00548473,\n",
       "        0.19559778, -0.16504686,  0.15123864, -0.10949144,  0.08185766,\n",
       "        0.19201919,  0.13711433, -0.09253408, -0.15355504, -0.32237515,\n",
       "        0.02699889, -0.30889875,  0.33711123, -0.27634889, -0.3053216 ,\n",
       "       -0.54909909,  0.37919599, -0.28650054, -0.02761799,  0.03334438,\n",
       "       -0.03990594,  0.3990683 , -0.06771367,  0.10650571, -0.35159341,\n",
       "       -0.58814687, -0.42965823,  0.03979547,  0.03451174, -0.28318128,\n",
       "       -0.09844194,  0.26262531,  0.31524155,  0.01138419,  0.3038758 ,\n",
       "        0.23763564, -0.53914404,  0.13713463, -0.31073037,  0.05318454,\n",
       "       -0.04085157, -0.09256078,  0.2206168 , -0.16867542,  0.0128733 ,\n",
       "        0.12145641, -0.63713276,  0.12883271,  0.2150975 , -0.0831406 ])"
      ]
     },
     "execution_count": 455,
     "metadata": {},
     "output_type": "execute_result"
    }
   ],
   "source": [
    "item_factors_arr[0]"
   ]
  },
  {
   "cell_type": "code",
   "execution_count": 463,
   "metadata": {},
   "outputs": [],
   "source": [
    "num_games=len(df['game_number'].unique().tolist())"
   ]
  },
  {
   "cell_type": "code",
   "execution_count": 461,
   "metadata": {},
   "outputs": [],
   "source": [
    "sample_array=np.zeros(num_games)\n",
    "for i in range(num_games):\n",
    "    "
   ]
  },
  {
   "cell_type": "code",
   "execution_count": 462,
   "metadata": {},
   "outputs": [
    {
     "data": {
      "text/plain": [
       "(1587,)"
      ]
     },
     "execution_count": 462,
     "metadata": {},
     "output_type": "execute_result"
    }
   ],
   "source": [
    "sample_array.shape"
   ]
  },
  {
   "cell_type": "code",
   "execution_count": 467,
   "metadata": {},
   "outputs": [
    {
     "ename": "AttributeError",
     "evalue": "'Param' object has no attribute 'show'",
     "output_type": "error",
     "traceback": [
      "\u001b[0;31m---------------------------------------------------------------------------\u001b[0m",
      "\u001b[0;31mAttributeError\u001b[0m                            Traceback (most recent call last)",
      "\u001b[0;32m<ipython-input-467-d48e35baba6d>\u001b[0m in \u001b[0;36m<module>\u001b[0;34m()\u001b[0m\n\u001b[0;32m----> 1\u001b[0;31m \u001b[0mmodel\u001b[0m\u001b[0;34m.\u001b[0m\u001b[0mpredictionCol\u001b[0m\u001b[0;34m.\u001b[0m\u001b[0mshow\u001b[0m\u001b[0;34m(\u001b[0m\u001b[0;34m)\u001b[0m\u001b[0;34m\u001b[0m\u001b[0m\n\u001b[0m",
      "\u001b[0;31mAttributeError\u001b[0m: 'Param' object has no attribute 'show'"
     ]
    }
   ],
   "source": [
    "model."
   ]
  },
  {
   "cell_type": "code",
   "execution_count": null,
   "metadata": {},
   "outputs": [],
   "source": []
  }
 ],
 "metadata": {
  "kernelspec": {
   "display_name": "Python 3",
   "language": "python",
   "name": "python3"
  },
  "language_info": {
   "codemirror_mode": {
    "name": "ipython",
    "version": 3
   },
   "file_extension": ".py",
   "mimetype": "text/x-python",
   "name": "python",
   "nbconvert_exporter": "python",
   "pygments_lexer": "ipython3",
   "version": "3.6.5"
  }
 },
 "nbformat": 4,
 "nbformat_minor": 2
}
