{
 "cells": [
  {
   "cell_type": "code",
   "execution_count": 1,
   "metadata": {},
   "outputs": [],
   "source": [
    "import pymongo\n",
    "import pandas as pd"
   ]
  },
  {
   "cell_type": "code",
   "execution_count": 2,
   "metadata": {},
   "outputs": [],
   "source": [
    "game_dict= { 'NASA': {'user1':10,\n",
    "                    'user2':7,\n",
    "                    'user3':2},\n",
    "           'STAR WARS': {'user2':5,\n",
    "                        'user4':10,\n",
    "                        'user5':2},\n",
    "            'Mario': {'user1': 10,\n",
    "                     'user3':8,\n",
    "                     'user6':2}}"
   ]
  },
  {
   "cell_type": "code",
   "execution_count": 3,
   "metadata": {},
   "outputs": [
    {
     "data": {
      "text/plain": [
       "{'user2': 5, 'user4': 10, 'user5': 2}"
      ]
     },
     "execution_count": 3,
     "metadata": {},
     "output_type": "execute_result"
    }
   ],
   "source": [
    "game_dict['STAR WARS']"
   ]
  },
  {
   "cell_type": "code",
   "execution_count": 4,
   "metadata": {},
   "outputs": [
    {
     "data": {
      "text/plain": [
       "{'NASA': {'user1': 10, 'user2': 7, 'user3': 2},\n",
       " 'STAR WARS': {'user2': 5, 'user4': 10, 'user5': 2},\n",
       " 'Mario': {'user1': 10, 'user3': 8, 'user6': 2}}"
      ]
     },
     "execution_count": 4,
     "metadata": {},
     "output_type": "execute_result"
    }
   ],
   "source": [
    "game_dict"
   ]
  },
  {
   "cell_type": "code",
   "execution_count": 5,
   "metadata": {},
   "outputs": [],
   "source": [
    "def flatten_game_dict(game_dict):\n",
    "    for (game_id, user_score_dict) in game_dict.items():\n",
    "        for (username, score) in user_score_dict.items():\n",
    "            yield {'game_id': game_id, 'username': username, 'score': score}\n",
    "            "
   ]
  },
  {
   "cell_type": "code",
   "execution_count": 6,
   "metadata": {},
   "outputs": [
    {
     "data": {
      "text/plain": [
       "<generator object flatten_game_dict at 0x110b44bf8>"
      ]
     },
     "execution_count": 6,
     "metadata": {},
     "output_type": "execute_result"
    }
   ],
   "source": [
    "flatten_game_dict(game_dict=game_dict)"
   ]
  },
  {
   "cell_type": "code",
   "execution_count": 7,
   "metadata": {},
   "outputs": [],
   "source": [
    "mc=pymongo.MongoClient()"
   ]
  },
  {
   "cell_type": "code",
   "execution_count": 8,
   "metadata": {},
   "outputs": [],
   "source": [
    "db=mc['practice_db']"
   ]
  },
  {
   "cell_type": "code",
   "execution_count": 9,
   "metadata": {},
   "outputs": [],
   "source": [
    "practice=db['practice']"
   ]
  },
  {
   "cell_type": "markdown",
   "metadata": {},
   "source": [
    "flattened = flatten_game_dict(game_dict=game_dict)"
   ]
  },
  {
   "cell_type": "markdown",
   "metadata": {},
   "source": [
    "#for thing in flattened:\n",
    "    practice.insert_one(thing)"
   ]
  },
  {
   "cell_type": "code",
   "execution_count": 10,
   "metadata": {},
   "outputs": [
    {
     "data": {
      "text/plain": [
       "{'_id': ObjectId('5c0964d7933dea443f61b922'),\n",
       " 'game_id': 'NASA',\n",
       " 'username': 'user1',\n",
       " 'score': 10}"
      ]
     },
     "execution_count": 10,
     "metadata": {},
     "output_type": "execute_result"
    }
   ],
   "source": [
    "practice.find_one()"
   ]
  },
  {
   "cell_type": "code",
   "execution_count": 11,
   "metadata": {},
   "outputs": [],
   "source": [
    "def load_reviews_for_game(key, game_id):\n",
    "    found_reviews = practice.find({key: game_id})\n",
    "    return found_reviews"
   ]
  },
  {
   "cell_type": "code",
   "execution_count": 12,
   "metadata": {},
   "outputs": [
    {
     "data": {
      "text/plain": [
       "['NASA', 'Mario']"
      ]
     },
     "execution_count": 12,
     "metadata": {},
     "output_type": "execute_result"
    }
   ],
   "source": [
    "load_reviews_for_game('username', 'user1').distinct('game_id')"
   ]
  },
  {
   "cell_type": "code",
   "execution_count": 30,
   "metadata": {},
   "outputs": [],
   "source": [
    "df=pd.DataFrame(list(practice.find()))"
   ]
  },
  {
   "cell_type": "code",
   "execution_count": 14,
   "metadata": {},
   "outputs": [
    {
     "data": {
      "text/html": [
       "<div>\n",
       "<style scoped>\n",
       "    .dataframe tbody tr th:only-of-type {\n",
       "        vertical-align: middle;\n",
       "    }\n",
       "\n",
       "    .dataframe tbody tr th {\n",
       "        vertical-align: top;\n",
       "    }\n",
       "\n",
       "    .dataframe thead th {\n",
       "        text-align: right;\n",
       "    }\n",
       "</style>\n",
       "<table border=\"1\" class=\"dataframe\">\n",
       "  <thead>\n",
       "    <tr style=\"text-align: right;\">\n",
       "      <th></th>\n",
       "      <th>_id</th>\n",
       "      <th>game_id</th>\n",
       "      <th>score</th>\n",
       "      <th>username</th>\n",
       "    </tr>\n",
       "  </thead>\n",
       "  <tbody>\n",
       "    <tr>\n",
       "      <th>0</th>\n",
       "      <td>5c0964d7933dea443f61b922</td>\n",
       "      <td>NASA</td>\n",
       "      <td>10</td>\n",
       "      <td>user1</td>\n",
       "    </tr>\n",
       "    <tr>\n",
       "      <th>1</th>\n",
       "      <td>5c0964d7933dea443f61b923</td>\n",
       "      <td>NASA</td>\n",
       "      <td>7</td>\n",
       "      <td>user2</td>\n",
       "    </tr>\n",
       "    <tr>\n",
       "      <th>2</th>\n",
       "      <td>5c0964d7933dea443f61b924</td>\n",
       "      <td>NASA</td>\n",
       "      <td>2</td>\n",
       "      <td>user3</td>\n",
       "    </tr>\n",
       "    <tr>\n",
       "      <th>3</th>\n",
       "      <td>5c0964d7933dea443f61b925</td>\n",
       "      <td>STAR WARS</td>\n",
       "      <td>5</td>\n",
       "      <td>user2</td>\n",
       "    </tr>\n",
       "    <tr>\n",
       "      <th>4</th>\n",
       "      <td>5c0964d7933dea443f61b926</td>\n",
       "      <td>STAR WARS</td>\n",
       "      <td>10</td>\n",
       "      <td>user4</td>\n",
       "    </tr>\n",
       "    <tr>\n",
       "      <th>5</th>\n",
       "      <td>5c0964d7933dea443f61b927</td>\n",
       "      <td>STAR WARS</td>\n",
       "      <td>2</td>\n",
       "      <td>user5</td>\n",
       "    </tr>\n",
       "    <tr>\n",
       "      <th>6</th>\n",
       "      <td>5c0964d7933dea443f61b928</td>\n",
       "      <td>Mario</td>\n",
       "      <td>10</td>\n",
       "      <td>user1</td>\n",
       "    </tr>\n",
       "    <tr>\n",
       "      <th>7</th>\n",
       "      <td>5c0964d7933dea443f61b929</td>\n",
       "      <td>Mario</td>\n",
       "      <td>8</td>\n",
       "      <td>user3</td>\n",
       "    </tr>\n",
       "    <tr>\n",
       "      <th>8</th>\n",
       "      <td>5c0964d7933dea443f61b92a</td>\n",
       "      <td>Mario</td>\n",
       "      <td>2</td>\n",
       "      <td>user6</td>\n",
       "    </tr>\n",
       "  </tbody>\n",
       "</table>\n",
       "</div>"
      ],
      "text/plain": [
       "                        _id    game_id  score username\n",
       "0  5c0964d7933dea443f61b922       NASA     10    user1\n",
       "1  5c0964d7933dea443f61b923       NASA      7    user2\n",
       "2  5c0964d7933dea443f61b924       NASA      2    user3\n",
       "3  5c0964d7933dea443f61b925  STAR WARS      5    user2\n",
       "4  5c0964d7933dea443f61b926  STAR WARS     10    user4\n",
       "5  5c0964d7933dea443f61b927  STAR WARS      2    user5\n",
       "6  5c0964d7933dea443f61b928      Mario     10    user1\n",
       "7  5c0964d7933dea443f61b929      Mario      8    user3\n",
       "8  5c0964d7933dea443f61b92a      Mario      2    user6"
      ]
     },
     "execution_count": 14,
     "metadata": {},
     "output_type": "execute_result"
    }
   ],
   "source": [
    "df"
   ]
  },
  {
   "cell_type": "code",
   "execution_count": 15,
   "metadata": {},
   "outputs": [
    {
     "name": "stdout",
     "output_type": "stream",
     "text": [
      "user1\n",
      "user2\n",
      "user3\n",
      "user4\n",
      "user5\n",
      "user6\n"
     ]
    }
   ],
   "source": [
    "for use in df.username.unique():\n",
    "    print(use)"
   ]
  },
  {
   "cell_type": "code",
   "execution_count": 16,
   "metadata": {},
   "outputs": [
    {
     "data": {
      "text/html": [
       "<div>\n",
       "<style scoped>\n",
       "    .dataframe tbody tr th:only-of-type {\n",
       "        vertical-align: middle;\n",
       "    }\n",
       "\n",
       "    .dataframe tbody tr th {\n",
       "        vertical-align: top;\n",
       "    }\n",
       "\n",
       "    .dataframe thead th {\n",
       "        text-align: right;\n",
       "    }\n",
       "</style>\n",
       "<table border=\"1\" class=\"dataframe\">\n",
       "  <thead>\n",
       "    <tr style=\"text-align: right;\">\n",
       "      <th></th>\n",
       "      <th>_id</th>\n",
       "      <th>game_id</th>\n",
       "      <th>score</th>\n",
       "      <th>username</th>\n",
       "    </tr>\n",
       "  </thead>\n",
       "  <tbody>\n",
       "    <tr>\n",
       "      <th>0</th>\n",
       "      <td>5c0964d7933dea443f61b922</td>\n",
       "      <td>NASA</td>\n",
       "      <td>10</td>\n",
       "      <td>user1</td>\n",
       "    </tr>\n",
       "    <tr>\n",
       "      <th>6</th>\n",
       "      <td>5c0964d7933dea443f61b928</td>\n",
       "      <td>Mario</td>\n",
       "      <td>10</td>\n",
       "      <td>user1</td>\n",
       "    </tr>\n",
       "  </tbody>\n",
       "</table>\n",
       "</div>"
      ],
      "text/plain": [
       "                        _id game_id  score username\n",
       "0  5c0964d7933dea443f61b922    NASA     10    user1\n",
       "6  5c0964d7933dea443f61b928   Mario     10    user1"
      ]
     },
     "execution_count": 16,
     "metadata": {},
     "output_type": "execute_result"
    }
   ],
   "source": [
    "df[df.username=='user1']"
   ]
  },
  {
   "cell_type": "code",
   "execution_count": 17,
   "metadata": {},
   "outputs": [],
   "source": [
    "preferences=df.pivot(index='username', columns='game_id', values='score' )"
   ]
  },
  {
   "cell_type": "code",
   "execution_count": 18,
   "metadata": {},
   "outputs": [
    {
     "data": {
      "text/html": [
       "<div>\n",
       "<style scoped>\n",
       "    .dataframe tbody tr th:only-of-type {\n",
       "        vertical-align: middle;\n",
       "    }\n",
       "\n",
       "    .dataframe tbody tr th {\n",
       "        vertical-align: top;\n",
       "    }\n",
       "\n",
       "    .dataframe thead th {\n",
       "        text-align: right;\n",
       "    }\n",
       "</style>\n",
       "<table border=\"1\" class=\"dataframe\">\n",
       "  <thead>\n",
       "    <tr style=\"text-align: right;\">\n",
       "      <th>game_id</th>\n",
       "      <th>Mario</th>\n",
       "      <th>NASA</th>\n",
       "      <th>STAR WARS</th>\n",
       "    </tr>\n",
       "    <tr>\n",
       "      <th>username</th>\n",
       "      <th></th>\n",
       "      <th></th>\n",
       "      <th></th>\n",
       "    </tr>\n",
       "  </thead>\n",
       "  <tbody>\n",
       "    <tr>\n",
       "      <th>user1</th>\n",
       "      <td>10.0</td>\n",
       "      <td>10.0</td>\n",
       "      <td>NaN</td>\n",
       "    </tr>\n",
       "    <tr>\n",
       "      <th>user2</th>\n",
       "      <td>NaN</td>\n",
       "      <td>7.0</td>\n",
       "      <td>5.0</td>\n",
       "    </tr>\n",
       "    <tr>\n",
       "      <th>user3</th>\n",
       "      <td>8.0</td>\n",
       "      <td>2.0</td>\n",
       "      <td>NaN</td>\n",
       "    </tr>\n",
       "    <tr>\n",
       "      <th>user4</th>\n",
       "      <td>NaN</td>\n",
       "      <td>NaN</td>\n",
       "      <td>10.0</td>\n",
       "    </tr>\n",
       "    <tr>\n",
       "      <th>user5</th>\n",
       "      <td>NaN</td>\n",
       "      <td>NaN</td>\n",
       "      <td>2.0</td>\n",
       "    </tr>\n",
       "    <tr>\n",
       "      <th>user6</th>\n",
       "      <td>2.0</td>\n",
       "      <td>NaN</td>\n",
       "      <td>NaN</td>\n",
       "    </tr>\n",
       "  </tbody>\n",
       "</table>\n",
       "</div>"
      ],
      "text/plain": [
       "game_id   Mario  NASA  STAR WARS\n",
       "username                        \n",
       "user1      10.0  10.0        NaN\n",
       "user2       NaN   7.0        5.0\n",
       "user3       8.0   2.0        NaN\n",
       "user4       NaN   NaN       10.0\n",
       "user5       NaN   NaN        2.0\n",
       "user6       2.0   NaN        NaN"
      ]
     },
     "execution_count": 18,
     "metadata": {},
     "output_type": "execute_result"
    }
   ],
   "source": [
    "preferences"
   ]
  },
  {
   "cell_type": "code",
   "execution_count": 19,
   "metadata": {},
   "outputs": [],
   "source": [
    "users=set(df['username'])\n",
    "games=set(df['game_id'])"
   ]
  },
  {
   "cell_type": "code",
   "execution_count": 20,
   "metadata": {},
   "outputs": [],
   "source": [
    "game_id_lookup = dict(zip(games, range(len(games))))\n",
    "user_id_lookup = dict(zip(users, range(len(users))))"
   ]
  },
  {
   "cell_type": "code",
   "execution_count": 21,
   "metadata": {},
   "outputs": [],
   "source": [
    "df['game_number']=df['game_id'].apply(game_id_lookup.get)\n",
    "df['user_number']=df['username'].apply(user_id_lookup.get)"
   ]
  },
  {
   "cell_type": "code",
   "execution_count": 22,
   "metadata": {},
   "outputs": [
    {
     "data": {
      "text/html": [
       "<div>\n",
       "<style scoped>\n",
       "    .dataframe tbody tr th:only-of-type {\n",
       "        vertical-align: middle;\n",
       "    }\n",
       "\n",
       "    .dataframe tbody tr th {\n",
       "        vertical-align: top;\n",
       "    }\n",
       "\n",
       "    .dataframe thead th {\n",
       "        text-align: right;\n",
       "    }\n",
       "</style>\n",
       "<table border=\"1\" class=\"dataframe\">\n",
       "  <thead>\n",
       "    <tr style=\"text-align: right;\">\n",
       "      <th></th>\n",
       "      <th>_id</th>\n",
       "      <th>game_id</th>\n",
       "      <th>score</th>\n",
       "      <th>username</th>\n",
       "      <th>game_number</th>\n",
       "      <th>user_number</th>\n",
       "    </tr>\n",
       "  </thead>\n",
       "  <tbody>\n",
       "    <tr>\n",
       "      <th>0</th>\n",
       "      <td>5c0964d7933dea443f61b922</td>\n",
       "      <td>NASA</td>\n",
       "      <td>10</td>\n",
       "      <td>user1</td>\n",
       "      <td>1</td>\n",
       "      <td>1</td>\n",
       "    </tr>\n",
       "    <tr>\n",
       "      <th>1</th>\n",
       "      <td>5c0964d7933dea443f61b923</td>\n",
       "      <td>NASA</td>\n",
       "      <td>7</td>\n",
       "      <td>user2</td>\n",
       "      <td>1</td>\n",
       "      <td>2</td>\n",
       "    </tr>\n",
       "    <tr>\n",
       "      <th>2</th>\n",
       "      <td>5c0964d7933dea443f61b924</td>\n",
       "      <td>NASA</td>\n",
       "      <td>2</td>\n",
       "      <td>user3</td>\n",
       "      <td>1</td>\n",
       "      <td>4</td>\n",
       "    </tr>\n",
       "    <tr>\n",
       "      <th>3</th>\n",
       "      <td>5c0964d7933dea443f61b925</td>\n",
       "      <td>STAR WARS</td>\n",
       "      <td>5</td>\n",
       "      <td>user2</td>\n",
       "      <td>2</td>\n",
       "      <td>2</td>\n",
       "    </tr>\n",
       "    <tr>\n",
       "      <th>4</th>\n",
       "      <td>5c0964d7933dea443f61b926</td>\n",
       "      <td>STAR WARS</td>\n",
       "      <td>10</td>\n",
       "      <td>user4</td>\n",
       "      <td>2</td>\n",
       "      <td>5</td>\n",
       "    </tr>\n",
       "    <tr>\n",
       "      <th>5</th>\n",
       "      <td>5c0964d7933dea443f61b927</td>\n",
       "      <td>STAR WARS</td>\n",
       "      <td>2</td>\n",
       "      <td>user5</td>\n",
       "      <td>2</td>\n",
       "      <td>3</td>\n",
       "    </tr>\n",
       "    <tr>\n",
       "      <th>6</th>\n",
       "      <td>5c0964d7933dea443f61b928</td>\n",
       "      <td>Mario</td>\n",
       "      <td>10</td>\n",
       "      <td>user1</td>\n",
       "      <td>0</td>\n",
       "      <td>1</td>\n",
       "    </tr>\n",
       "    <tr>\n",
       "      <th>7</th>\n",
       "      <td>5c0964d7933dea443f61b929</td>\n",
       "      <td>Mario</td>\n",
       "      <td>8</td>\n",
       "      <td>user3</td>\n",
       "      <td>0</td>\n",
       "      <td>4</td>\n",
       "    </tr>\n",
       "    <tr>\n",
       "      <th>8</th>\n",
       "      <td>5c0964d7933dea443f61b92a</td>\n",
       "      <td>Mario</td>\n",
       "      <td>2</td>\n",
       "      <td>user6</td>\n",
       "      <td>0</td>\n",
       "      <td>0</td>\n",
       "    </tr>\n",
       "  </tbody>\n",
       "</table>\n",
       "</div>"
      ],
      "text/plain": [
       "                        _id    game_id  score username  game_number  \\\n",
       "0  5c0964d7933dea443f61b922       NASA     10    user1            1   \n",
       "1  5c0964d7933dea443f61b923       NASA      7    user2            1   \n",
       "2  5c0964d7933dea443f61b924       NASA      2    user3            1   \n",
       "3  5c0964d7933dea443f61b925  STAR WARS      5    user2            2   \n",
       "4  5c0964d7933dea443f61b926  STAR WARS     10    user4            2   \n",
       "5  5c0964d7933dea443f61b927  STAR WARS      2    user5            2   \n",
       "6  5c0964d7933dea443f61b928      Mario     10    user1            0   \n",
       "7  5c0964d7933dea443f61b929      Mario      8    user3            0   \n",
       "8  5c0964d7933dea443f61b92a      Mario      2    user6            0   \n",
       "\n",
       "   user_number  \n",
       "0            1  \n",
       "1            2  \n",
       "2            4  \n",
       "3            2  \n",
       "4            5  \n",
       "5            3  \n",
       "6            1  \n",
       "7            4  \n",
       "8            0  "
      ]
     },
     "execution_count": 22,
     "metadata": {},
     "output_type": "execute_result"
    }
   ],
   "source": [
    "df"
   ]
  },
  {
   "cell_type": "code",
   "execution_count": 23,
   "metadata": {},
   "outputs": [],
   "source": [
    "preferences=df.pivot(index='user_number', columns='game_number', values='score' )"
   ]
  },
  {
   "cell_type": "code",
   "execution_count": 24,
   "metadata": {},
   "outputs": [
    {
     "data": {
      "text/html": [
       "<div>\n",
       "<style scoped>\n",
       "    .dataframe tbody tr th:only-of-type {\n",
       "        vertical-align: middle;\n",
       "    }\n",
       "\n",
       "    .dataframe tbody tr th {\n",
       "        vertical-align: top;\n",
       "    }\n",
       "\n",
       "    .dataframe thead th {\n",
       "        text-align: right;\n",
       "    }\n",
       "</style>\n",
       "<table border=\"1\" class=\"dataframe\">\n",
       "  <thead>\n",
       "    <tr style=\"text-align: right;\">\n",
       "      <th>game_number</th>\n",
       "      <th>0</th>\n",
       "      <th>1</th>\n",
       "      <th>2</th>\n",
       "    </tr>\n",
       "    <tr>\n",
       "      <th>user_number</th>\n",
       "      <th></th>\n",
       "      <th></th>\n",
       "      <th></th>\n",
       "    </tr>\n",
       "  </thead>\n",
       "  <tbody>\n",
       "    <tr>\n",
       "      <th>0</th>\n",
       "      <td>2.0</td>\n",
       "      <td>NaN</td>\n",
       "      <td>NaN</td>\n",
       "    </tr>\n",
       "    <tr>\n",
       "      <th>1</th>\n",
       "      <td>10.0</td>\n",
       "      <td>10.0</td>\n",
       "      <td>NaN</td>\n",
       "    </tr>\n",
       "    <tr>\n",
       "      <th>2</th>\n",
       "      <td>NaN</td>\n",
       "      <td>7.0</td>\n",
       "      <td>5.0</td>\n",
       "    </tr>\n",
       "    <tr>\n",
       "      <th>3</th>\n",
       "      <td>NaN</td>\n",
       "      <td>NaN</td>\n",
       "      <td>2.0</td>\n",
       "    </tr>\n",
       "    <tr>\n",
       "      <th>4</th>\n",
       "      <td>8.0</td>\n",
       "      <td>2.0</td>\n",
       "      <td>NaN</td>\n",
       "    </tr>\n",
       "    <tr>\n",
       "      <th>5</th>\n",
       "      <td>NaN</td>\n",
       "      <td>NaN</td>\n",
       "      <td>10.0</td>\n",
       "    </tr>\n",
       "  </tbody>\n",
       "</table>\n",
       "</div>"
      ],
      "text/plain": [
       "game_number     0     1     2\n",
       "user_number                  \n",
       "0             2.0   NaN   NaN\n",
       "1            10.0  10.0   NaN\n",
       "2             NaN   7.0   5.0\n",
       "3             NaN   NaN   2.0\n",
       "4             8.0   2.0   NaN\n",
       "5             NaN   NaN  10.0"
      ]
     },
     "execution_count": 24,
     "metadata": {},
     "output_type": "execute_result"
    }
   ],
   "source": [
    "preferences"
   ]
  },
  {
   "cell_type": "markdown",
   "metadata": {},
   "source": [
    "This is practicing to drop rows given a certain criteria of number of reviews for a game or number of reviews a user has given"
   ]
  },
  {
   "cell_type": "code",
   "execution_count": 25,
   "metadata": {},
   "outputs": [
    {
     "data": {
      "text/html": [
       "<div>\n",
       "<style scoped>\n",
       "    .dataframe tbody tr th:only-of-type {\n",
       "        vertical-align: middle;\n",
       "    }\n",
       "\n",
       "    .dataframe tbody tr th {\n",
       "        vertical-align: top;\n",
       "    }\n",
       "\n",
       "    .dataframe thead th {\n",
       "        text-align: right;\n",
       "    }\n",
       "</style>\n",
       "<table border=\"1\" class=\"dataframe\">\n",
       "  <thead>\n",
       "    <tr style=\"text-align: right;\">\n",
       "      <th></th>\n",
       "      <th>_id</th>\n",
       "      <th>game_id</th>\n",
       "      <th>score</th>\n",
       "      <th>username</th>\n",
       "      <th>game_number</th>\n",
       "      <th>user_number</th>\n",
       "    </tr>\n",
       "  </thead>\n",
       "  <tbody>\n",
       "    <tr>\n",
       "      <th>0</th>\n",
       "      <td>5c0964d7933dea443f61b922</td>\n",
       "      <td>NASA</td>\n",
       "      <td>10</td>\n",
       "      <td>user1</td>\n",
       "      <td>1</td>\n",
       "      <td>1</td>\n",
       "    </tr>\n",
       "    <tr>\n",
       "      <th>1</th>\n",
       "      <td>5c0964d7933dea443f61b923</td>\n",
       "      <td>NASA</td>\n",
       "      <td>7</td>\n",
       "      <td>user2</td>\n",
       "      <td>1</td>\n",
       "      <td>2</td>\n",
       "    </tr>\n",
       "    <tr>\n",
       "      <th>2</th>\n",
       "      <td>5c0964d7933dea443f61b924</td>\n",
       "      <td>NASA</td>\n",
       "      <td>2</td>\n",
       "      <td>user3</td>\n",
       "      <td>1</td>\n",
       "      <td>4</td>\n",
       "    </tr>\n",
       "    <tr>\n",
       "      <th>3</th>\n",
       "      <td>5c0964d7933dea443f61b925</td>\n",
       "      <td>STAR WARS</td>\n",
       "      <td>5</td>\n",
       "      <td>user2</td>\n",
       "      <td>2</td>\n",
       "      <td>2</td>\n",
       "    </tr>\n",
       "    <tr>\n",
       "      <th>4</th>\n",
       "      <td>5c0964d7933dea443f61b926</td>\n",
       "      <td>STAR WARS</td>\n",
       "      <td>10</td>\n",
       "      <td>user4</td>\n",
       "      <td>2</td>\n",
       "      <td>5</td>\n",
       "    </tr>\n",
       "    <tr>\n",
       "      <th>5</th>\n",
       "      <td>5c0964d7933dea443f61b927</td>\n",
       "      <td>STAR WARS</td>\n",
       "      <td>2</td>\n",
       "      <td>user5</td>\n",
       "      <td>2</td>\n",
       "      <td>3</td>\n",
       "    </tr>\n",
       "    <tr>\n",
       "      <th>6</th>\n",
       "      <td>5c0964d7933dea443f61b928</td>\n",
       "      <td>Mario</td>\n",
       "      <td>10</td>\n",
       "      <td>user1</td>\n",
       "      <td>0</td>\n",
       "      <td>1</td>\n",
       "    </tr>\n",
       "    <tr>\n",
       "      <th>7</th>\n",
       "      <td>5c0964d7933dea443f61b929</td>\n",
       "      <td>Mario</td>\n",
       "      <td>8</td>\n",
       "      <td>user3</td>\n",
       "      <td>0</td>\n",
       "      <td>4</td>\n",
       "    </tr>\n",
       "    <tr>\n",
       "      <th>8</th>\n",
       "      <td>5c0964d7933dea443f61b92a</td>\n",
       "      <td>Mario</td>\n",
       "      <td>2</td>\n",
       "      <td>user6</td>\n",
       "      <td>0</td>\n",
       "      <td>0</td>\n",
       "    </tr>\n",
       "  </tbody>\n",
       "</table>\n",
       "</div>"
      ],
      "text/plain": [
       "                        _id    game_id  score username  game_number  \\\n",
       "0  5c0964d7933dea443f61b922       NASA     10    user1            1   \n",
       "1  5c0964d7933dea443f61b923       NASA      7    user2            1   \n",
       "2  5c0964d7933dea443f61b924       NASA      2    user3            1   \n",
       "3  5c0964d7933dea443f61b925  STAR WARS      5    user2            2   \n",
       "4  5c0964d7933dea443f61b926  STAR WARS     10    user4            2   \n",
       "5  5c0964d7933dea443f61b927  STAR WARS      2    user5            2   \n",
       "6  5c0964d7933dea443f61b928      Mario     10    user1            0   \n",
       "7  5c0964d7933dea443f61b929      Mario      8    user3            0   \n",
       "8  5c0964d7933dea443f61b92a      Mario      2    user6            0   \n",
       "\n",
       "   user_number  \n",
       "0            1  \n",
       "1            2  \n",
       "2            4  \n",
       "3            2  \n",
       "4            5  \n",
       "5            3  \n",
       "6            1  \n",
       "7            4  \n",
       "8            0  "
      ]
     },
     "execution_count": 25,
     "metadata": {},
     "output_type": "execute_result"
    }
   ],
   "source": [
    "df"
   ]
  },
  {
   "cell_type": "code",
   "execution_count": 26,
   "metadata": {},
   "outputs": [
    {
     "name": "stdout",
     "output_type": "stream",
     "text": [
      "NASA 3\n",
      "STAR WARS 3\n",
      "Mario 3\n"
     ]
    }
   ],
   "source": [
    "for game in df.game_id.unique():\n",
    "    print(game, \n",
    "          (df['game_id']==game).sum())"
   ]
  },
  {
   "cell_type": "markdown",
   "metadata": {},
   "source": [
    "This for loop below successfully drops any rows where the game has exactly 3 reviews\n",
    "# Note: this for loop is not efficient at all when dealing with huge dataframes"
   ]
  },
  {
   "cell_type": "code",
   "execution_count": 27,
   "metadata": {},
   "outputs": [],
   "source": [
    "for game in df.game_id.unique():\n",
    "    if (df.game_id==game).sum() ==3:\n",
    "        df.drop(df[df.game_id==game].index, inplace=True)"
   ]
  },
  {
   "cell_type": "code",
   "execution_count": 28,
   "metadata": {},
   "outputs": [],
   "source": [
    "df.drop(df[df.game_id=='NASA'].index, inplace=True)"
   ]
  },
  {
   "cell_type": "code",
   "execution_count": 29,
   "metadata": {},
   "outputs": [
    {
     "data": {
      "text/html": [
       "<div>\n",
       "<style scoped>\n",
       "    .dataframe tbody tr th:only-of-type {\n",
       "        vertical-align: middle;\n",
       "    }\n",
       "\n",
       "    .dataframe tbody tr th {\n",
       "        vertical-align: top;\n",
       "    }\n",
       "\n",
       "    .dataframe thead th {\n",
       "        text-align: right;\n",
       "    }\n",
       "</style>\n",
       "<table border=\"1\" class=\"dataframe\">\n",
       "  <thead>\n",
       "    <tr style=\"text-align: right;\">\n",
       "      <th></th>\n",
       "      <th>_id</th>\n",
       "      <th>game_id</th>\n",
       "      <th>score</th>\n",
       "      <th>username</th>\n",
       "      <th>game_number</th>\n",
       "      <th>user_number</th>\n",
       "    </tr>\n",
       "  </thead>\n",
       "  <tbody>\n",
       "  </tbody>\n",
       "</table>\n",
       "</div>"
      ],
      "text/plain": [
       "Empty DataFrame\n",
       "Columns: [_id, game_id, score, username, game_number, user_number]\n",
       "Index: []"
      ]
     },
     "execution_count": 29,
     "metadata": {},
     "output_type": "execute_result"
    }
   ],
   "source": [
    "df"
   ]
  },
  {
   "cell_type": "code",
   "execution_count": null,
   "metadata": {},
   "outputs": [],
   "source": []
  },
  {
   "cell_type": "markdown",
   "metadata": {},
   "source": [
    "Attempt at the same thing as above but by using groupby"
   ]
  },
  {
   "cell_type": "code",
   "execution_count": 76,
   "metadata": {},
   "outputs": [],
   "source": [
    "user_group = pd.DataFrame(df.groupby('username').size(), columns=['username_count'])#.reset_index()#name='user_number')"
   ]
  },
  {
   "cell_type": "code",
   "execution_count": 77,
   "metadata": {},
   "outputs": [
    {
     "data": {
      "text/html": [
       "<div>\n",
       "<style scoped>\n",
       "    .dataframe tbody tr th:only-of-type {\n",
       "        vertical-align: middle;\n",
       "    }\n",
       "\n",
       "    .dataframe tbody tr th {\n",
       "        vertical-align: top;\n",
       "    }\n",
       "\n",
       "    .dataframe thead th {\n",
       "        text-align: right;\n",
       "    }\n",
       "</style>\n",
       "<table border=\"1\" class=\"dataframe\">\n",
       "  <thead>\n",
       "    <tr style=\"text-align: right;\">\n",
       "      <th></th>\n",
       "      <th>username_count</th>\n",
       "    </tr>\n",
       "    <tr>\n",
       "      <th>username</th>\n",
       "      <th></th>\n",
       "    </tr>\n",
       "  </thead>\n",
       "  <tbody>\n",
       "    <tr>\n",
       "      <th>user1</th>\n",
       "      <td>2</td>\n",
       "    </tr>\n",
       "    <tr>\n",
       "      <th>user2</th>\n",
       "      <td>2</td>\n",
       "    </tr>\n",
       "    <tr>\n",
       "      <th>user3</th>\n",
       "      <td>2</td>\n",
       "    </tr>\n",
       "    <tr>\n",
       "      <th>user4</th>\n",
       "      <td>1</td>\n",
       "    </tr>\n",
       "    <tr>\n",
       "      <th>user5</th>\n",
       "      <td>1</td>\n",
       "    </tr>\n",
       "    <tr>\n",
       "      <th>user6</th>\n",
       "      <td>1</td>\n",
       "    </tr>\n",
       "  </tbody>\n",
       "</table>\n",
       "</div>"
      ],
      "text/plain": [
       "          username_count\n",
       "username                \n",
       "user1                  2\n",
       "user2                  2\n",
       "user3                  2\n",
       "user4                  1\n",
       "user5                  1\n",
       "user6                  1"
      ]
     },
     "execution_count": 77,
     "metadata": {},
     "output_type": "execute_result"
    }
   ],
   "source": [
    "user_group"
   ]
  },
  {
   "cell_type": "code",
   "execution_count": 82,
   "metadata": {},
   "outputs": [],
   "source": [
    "df = df.join(user_group, on='username')"
   ]
  },
  {
   "cell_type": "code",
   "execution_count": 86,
   "metadata": {},
   "outputs": [
    {
     "data": {
      "text/html": [
       "<div>\n",
       "<style scoped>\n",
       "    .dataframe tbody tr th:only-of-type {\n",
       "        vertical-align: middle;\n",
       "    }\n",
       "\n",
       "    .dataframe tbody tr th {\n",
       "        vertical-align: top;\n",
       "    }\n",
       "\n",
       "    .dataframe thead th {\n",
       "        text-align: right;\n",
       "    }\n",
       "</style>\n",
       "<table border=\"1\" class=\"dataframe\">\n",
       "  <thead>\n",
       "    <tr style=\"text-align: right;\">\n",
       "      <th></th>\n",
       "      <th>_id</th>\n",
       "      <th>game_id</th>\n",
       "      <th>score</th>\n",
       "      <th>username</th>\n",
       "      <th>username_count</th>\n",
       "    </tr>\n",
       "  </thead>\n",
       "  <tbody>\n",
       "    <tr>\n",
       "      <th>0</th>\n",
       "      <td>5c0964d7933dea443f61b922</td>\n",
       "      <td>NASA</td>\n",
       "      <td>10</td>\n",
       "      <td>user1</td>\n",
       "      <td>2</td>\n",
       "    </tr>\n",
       "    <tr>\n",
       "      <th>1</th>\n",
       "      <td>5c0964d7933dea443f61b923</td>\n",
       "      <td>NASA</td>\n",
       "      <td>7</td>\n",
       "      <td>user2</td>\n",
       "      <td>2</td>\n",
       "    </tr>\n",
       "    <tr>\n",
       "      <th>2</th>\n",
       "      <td>5c0964d7933dea443f61b924</td>\n",
       "      <td>NASA</td>\n",
       "      <td>2</td>\n",
       "      <td>user3</td>\n",
       "      <td>2</td>\n",
       "    </tr>\n",
       "    <tr>\n",
       "      <th>3</th>\n",
       "      <td>5c0964d7933dea443f61b925</td>\n",
       "      <td>STAR WARS</td>\n",
       "      <td>5</td>\n",
       "      <td>user2</td>\n",
       "      <td>2</td>\n",
       "    </tr>\n",
       "    <tr>\n",
       "      <th>6</th>\n",
       "      <td>5c0964d7933dea443f61b928</td>\n",
       "      <td>Mario</td>\n",
       "      <td>10</td>\n",
       "      <td>user1</td>\n",
       "      <td>2</td>\n",
       "    </tr>\n",
       "    <tr>\n",
       "      <th>7</th>\n",
       "      <td>5c0964d7933dea443f61b929</td>\n",
       "      <td>Mario</td>\n",
       "      <td>8</td>\n",
       "      <td>user3</td>\n",
       "      <td>2</td>\n",
       "    </tr>\n",
       "  </tbody>\n",
       "</table>\n",
       "</div>"
      ],
      "text/plain": [
       "                        _id    game_id  score username  username_count\n",
       "0  5c0964d7933dea443f61b922       NASA     10    user1               2\n",
       "1  5c0964d7933dea443f61b923       NASA      7    user2               2\n",
       "2  5c0964d7933dea443f61b924       NASA      2    user3               2\n",
       "3  5c0964d7933dea443f61b925  STAR WARS      5    user2               2\n",
       "6  5c0964d7933dea443f61b928      Mario     10    user1               2\n",
       "7  5c0964d7933dea443f61b929      Mario      8    user3               2"
      ]
     },
     "execution_count": 86,
     "metadata": {},
     "output_type": "execute_result"
    }
   ],
   "source": [
    "df.loc[df.username_count>1, :]"
   ]
  },
  {
   "cell_type": "code",
   "execution_count": 87,
   "metadata": {},
   "outputs": [
    {
     "data": {
      "text/html": [
       "<div>\n",
       "<style scoped>\n",
       "    .dataframe tbody tr th:only-of-type {\n",
       "        vertical-align: middle;\n",
       "    }\n",
       "\n",
       "    .dataframe tbody tr th {\n",
       "        vertical-align: top;\n",
       "    }\n",
       "\n",
       "    .dataframe thead th {\n",
       "        text-align: right;\n",
       "    }\n",
       "</style>\n",
       "<table border=\"1\" class=\"dataframe\">\n",
       "  <thead>\n",
       "    <tr style=\"text-align: right;\">\n",
       "      <th></th>\n",
       "      <th>_id</th>\n",
       "      <th>game_id</th>\n",
       "      <th>score</th>\n",
       "      <th>username</th>\n",
       "      <th>username_count</th>\n",
       "    </tr>\n",
       "  </thead>\n",
       "  <tbody>\n",
       "    <tr>\n",
       "      <th>0</th>\n",
       "      <td>5c0964d7933dea443f61b922</td>\n",
       "      <td>NASA</td>\n",
       "      <td>10</td>\n",
       "      <td>user1</td>\n",
       "      <td>2</td>\n",
       "    </tr>\n",
       "    <tr>\n",
       "      <th>1</th>\n",
       "      <td>5c0964d7933dea443f61b923</td>\n",
       "      <td>NASA</td>\n",
       "      <td>7</td>\n",
       "      <td>user2</td>\n",
       "      <td>2</td>\n",
       "    </tr>\n",
       "    <tr>\n",
       "      <th>2</th>\n",
       "      <td>5c0964d7933dea443f61b924</td>\n",
       "      <td>NASA</td>\n",
       "      <td>2</td>\n",
       "      <td>user3</td>\n",
       "      <td>2</td>\n",
       "    </tr>\n",
       "    <tr>\n",
       "      <th>3</th>\n",
       "      <td>5c0964d7933dea443f61b925</td>\n",
       "      <td>STAR WARS</td>\n",
       "      <td>5</td>\n",
       "      <td>user2</td>\n",
       "      <td>2</td>\n",
       "    </tr>\n",
       "    <tr>\n",
       "      <th>6</th>\n",
       "      <td>5c0964d7933dea443f61b928</td>\n",
       "      <td>Mario</td>\n",
       "      <td>10</td>\n",
       "      <td>user1</td>\n",
       "      <td>2</td>\n",
       "    </tr>\n",
       "    <tr>\n",
       "      <th>7</th>\n",
       "      <td>5c0964d7933dea443f61b929</td>\n",
       "      <td>Mario</td>\n",
       "      <td>8</td>\n",
       "      <td>user3</td>\n",
       "      <td>2</td>\n",
       "    </tr>\n",
       "  </tbody>\n",
       "</table>\n",
       "</div>"
      ],
      "text/plain": [
       "                        _id    game_id  score username  username_count\n",
       "0  5c0964d7933dea443f61b922       NASA     10    user1               2\n",
       "1  5c0964d7933dea443f61b923       NASA      7    user2               2\n",
       "2  5c0964d7933dea443f61b924       NASA      2    user3               2\n",
       "3  5c0964d7933dea443f61b925  STAR WARS      5    user2               2\n",
       "6  5c0964d7933dea443f61b928      Mario     10    user1               2\n",
       "7  5c0964d7933dea443f61b929      Mario      8    user3               2"
      ]
     },
     "execution_count": 87,
     "metadata": {},
     "output_type": "execute_result"
    }
   ],
   "source": [
    "df[df.username_count>1]"
   ]
  },
  {
   "cell_type": "code",
   "execution_count": null,
   "metadata": {},
   "outputs": [],
   "source": []
  }
 ],
 "metadata": {
  "kernelspec": {
   "display_name": "Python 3",
   "language": "python",
   "name": "python3"
  },
  "language_info": {
   "codemirror_mode": {
    "name": "ipython",
    "version": 3
   },
   "file_extension": ".py",
   "mimetype": "text/x-python",
   "name": "python",
   "nbconvert_exporter": "python",
   "pygments_lexer": "ipython3",
   "version": "3.6.5"
  }
 },
 "nbformat": 4,
 "nbformat_minor": 2
}
