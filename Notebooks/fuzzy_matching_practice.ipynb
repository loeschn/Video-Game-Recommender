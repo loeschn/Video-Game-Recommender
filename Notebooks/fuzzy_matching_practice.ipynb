{
 "cells": [
  {
   "cell_type": "markdown",
   "metadata": {},
   "source": [
    "The purpose of this notebook is to become more familiar with fuzzywuzzy & fuzzy matching, in order to match game titles from the IGDB database with the game titles from Metacritic.\n",
    "\n",
    "I believe this can also help with my current problem of requiring the spelling of game titles to be exact in both my reccommender functions"
   ]
  },
  {
   "cell_type": "code",
   "execution_count": 25,
   "metadata": {},
   "outputs": [],
   "source": [
    "from fuzzywuzzy import process\n",
    "import pymongo\n",
    "import pandas as pd\n",
    "import numpy as np\n",
    "from notebook_src import pandas_functions\n",
    "from notebook_src import make_preference_matrix"
   ]
  },
  {
   "cell_type": "code",
   "execution_count": 6,
   "metadata": {},
   "outputs": [],
   "source": [
    "mc = pymongo.MongoClient()\n",
    "db = mc['ps4_game_data']\n",
    "games = db['games']"
   ]
  },
  {
   "cell_type": "code",
   "execution_count": 26,
   "metadata": {},
   "outputs": [],
   "source": [
    "igdb_df = pd.DataFrame(list(games.find()))"
   ]
  },
  {
   "cell_type": "code",
   "execution_count": 27,
   "metadata": {},
   "outputs": [],
   "source": [
    "igdb_df = pandas_functions.clean_df(igdb_df)"
   ]
  },
  {
   "cell_type": "code",
   "execution_count": 28,
   "metadata": {},
   "outputs": [
    {
     "data": {
      "text/plain": [
       "Index(['_id', 'aggregated_rating', 'aggregated_rating_count',\n",
       "       'alternative_names', 'artworks', 'category', 'collection', 'cover',\n",
       "       'created_at', 'developers', 'dlcs', 'esrb', 'expansions', 'external',\n",
       "       'first_release_date', 'franchise', 'franchises', 'game', 'game_engines',\n",
       "       'game_modes', 'games', 'genres', 'hypes', 'id', 'keywords',\n",
       "       'multiplayer_modes', 'name', 'pegi', 'platforms', 'player_perspectives',\n",
       "       'popularity', 'publishers', 'pulse_count', 'rating', 'rating_count',\n",
       "       'release_dates', 'screenshots', 'slug', 'standalone_expansions',\n",
       "       'status', 'storyline', 'summary', 'tags', 'themes', 'time_to_beat',\n",
       "       'total_rating', 'total_rating_count', 'updated_at', 'url',\n",
       "       'version_parent', 'version_title', 'videos', 'websites'],\n",
       "      dtype='object')"
      ]
     },
     "execution_count": 28,
     "metadata": {},
     "output_type": "execute_result"
    }
   ],
   "source": [
    "igdb_df.columns"
   ]
  },
  {
   "cell_type": "code",
   "execution_count": 29,
   "metadata": {},
   "outputs": [],
   "source": [
    "igdb_games = list(igdb_df.name)"
   ]
  },
  {
   "cell_type": "code",
   "execution_count": 30,
   "metadata": {},
   "outputs": [
    {
     "data": {
      "text/plain": [
       "2722"
      ]
     },
     "execution_count": 30,
     "metadata": {},
     "output_type": "execute_result"
    }
   ],
   "source": [
    "len(igdb_games)"
   ]
  },
  {
   "cell_type": "code",
   "execution_count": 31,
   "metadata": {},
   "outputs": [
    {
     "data": {
      "text/plain": [
       "[('The Witcher 3: Wild Hunt', 90),\n",
       " ('The Amazing Spider-Man 2', 86),\n",
       " ('XING: The Land Beyond', 86)]"
      ]
     },
     "execution_count": 31,
     "metadata": {},
     "output_type": "execute_result"
    }
   ],
   "source": [
    "process.extract('The witcher 3', igdb_games, limit=3)"
   ]
  },
  {
   "cell_type": "code",
   "execution_count": 32,
   "metadata": {},
   "outputs": [
    {
     "data": {
      "text/plain": [
       "[('Far Cry 5', 94),\n",
       " ('Disgaea 5: Alliance of Vengeance', 86),\n",
       " ('WRC 5 FIA World Rally Championship', 86)]"
      ]
     },
     "execution_count": 32,
     "metadata": {},
     "output_type": "execute_result"
    }
   ],
   "source": [
    "process.extract('Farcry 5', igdb_games, limit=3)"
   ]
  },
  {
   "cell_type": "code",
   "execution_count": 46,
   "metadata": {},
   "outputs": [
    {
     "data": {
      "text/plain": [
       "'Far Cry: Primal'"
      ]
     },
     "execution_count": 46,
     "metadata": {},
     "output_type": "execute_result"
    }
   ],
   "source": [
    "process.extractOne('Farcry Primal', igdb_games)[0]"
   ]
  },
  {
   "cell_type": "code",
   "execution_count": null,
   "metadata": {},
   "outputs": [],
   "source": []
  },
  {
   "cell_type": "code",
   "execution_count": 33,
   "metadata": {},
   "outputs": [],
   "source": [
    "metacritic_df = make_preference_matrix.make_preference_df()"
   ]
  },
  {
   "cell_type": "code",
   "execution_count": 37,
   "metadata": {},
   "outputs": [],
   "source": [
    "metacritic_games = list(metacritic_df.game_id.unique())"
   ]
  },
  {
   "cell_type": "code",
   "execution_count": 38,
   "metadata": {},
   "outputs": [
    {
     "data": {
      "text/plain": [
       "2289"
      ]
     },
     "execution_count": 38,
     "metadata": {},
     "output_type": "execute_result"
    }
   ],
   "source": [
    "len(metacritic_games)"
   ]
  },
  {
   "cell_type": "code",
   "execution_count": 39,
   "metadata": {},
   "outputs": [
    {
     "data": {
      "text/plain": [
       "[('The Witcher 3: Wild Hunt', 90),\n",
       " ('The Witcher 3: Wild Hunt - Blood and Wine', 90),\n",
       " ('The Witcher 3: Wild Hunt - Hearts of Stone', 90)]"
      ]
     },
     "execution_count": 39,
     "metadata": {},
     "output_type": "execute_result"
    }
   ],
   "source": [
    "process.extract('Witcher 3', metacritic_games, limit=3)"
   ]
  },
  {
   "cell_type": "code",
   "execution_count": 40,
   "metadata": {},
   "outputs": [
    {
     "data": {
      "text/plain": [
       "[(\"Assassin's Creed Odyssey\", 98),\n",
       " (\"Assassin's Creed Origins: The Curse of the Pharaohs\", 86),\n",
       " (\"Assassin's Creed Origins: The Hidden Ones\", 86)]"
      ]
     },
     "execution_count": 40,
     "metadata": {},
     "output_type": "execute_result"
    }
   ],
   "source": [
    "process.extract('Assassins creed odyssey', metacritic_games, limit=3)"
   ]
  },
  {
   "cell_type": "code",
   "execution_count": 41,
   "metadata": {},
   "outputs": [
    {
     "data": {
      "text/plain": [
       "[(\"PlayerUnknown's Battlegrounds\", 95), ('Bound', 72), ('Foul Play', 67)]"
      ]
     },
     "execution_count": 41,
     "metadata": {},
     "output_type": "execute_result"
    }
   ],
   "source": [
    "process.extract('Player Unknowns battleground', metacritic_games, limit=3)"
   ]
  },
  {
   "cell_type": "code",
   "execution_count": null,
   "metadata": {},
   "outputs": [],
   "source": []
  }
 ],
 "metadata": {
  "kernelspec": {
   "display_name": "Python 3",
   "language": "python",
   "name": "python3"
  },
  "language_info": {
   "codemirror_mode": {
    "name": "ipython",
    "version": 3
   },
   "file_extension": ".py",
   "mimetype": "text/x-python",
   "name": "python",
   "nbconvert_exporter": "python",
   "pygments_lexer": "ipython3",
   "version": "3.6.5"
  }
 },
 "nbformat": 4,
 "nbformat_minor": 2
}
