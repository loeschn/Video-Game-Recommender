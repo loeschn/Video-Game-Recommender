{
 "cells": [
  {
   "cell_type": "code",
   "execution_count": 31,
   "metadata": {},
   "outputs": [],
   "source": [
    "import requests\n",
    "from selenium.webdriver import (Chrome, Firefox)\n",
    "from src import metacritic_scrape"
   ]
  },
  {
   "cell_type": "code",
   "execution_count": 23,
   "metadata": {},
   "outputs": [],
   "source": [
    "browser = Firefox()"
   ]
  },
  {
   "cell_type": "code",
   "execution_count": 27,
   "metadata": {},
   "outputs": [],
   "source": [
    "url= \"https://www.metacritic.com/game/playstation-4/fallout-4/user-reviews?page=11\"\n",
    "\n",
    "browser.get(url)"
   ]
  },
  {
   "cell_type": "code",
   "execution_count": 28,
   "metadata": {},
   "outputs": [],
   "source": [
    "reviews = browser.find_elements_by_css_selector('li.user_review')\n",
    "if"
   ]
  },
  {
   "cell_type": "code",
   "execution_count": 29,
   "metadata": {},
   "outputs": [
    {
     "data": {
      "text/plain": [
       "[]"
      ]
     },
     "execution_count": 29,
     "metadata": {},
     "output_type": "execute_result"
    }
   ],
   "source": [
    "[review.text for review in reviews]"
   ]
  },
  {
   "cell_type": "code",
   "execution_count": 125,
   "metadata": {},
   "outputs": [],
   "source": [
    "sample = reviews[0].text"
   ]
  },
  {
   "cell_type": "code",
   "execution_count": 126,
   "metadata": {},
   "outputs": [
    {
     "data": {
      "text/plain": [
       "['Tyo28',\n",
       " 'Nov 16, 2015',\n",
       " '5',\n",
       " 'Honest Review',\n",
       " '',\n",
       " \"I made a meta critic account to review this game because I am extremely disappointed. I pre ordered this game weeks in advance because I am a if fan of the fallout series. I enjoyed Fallout 3 and yes even New Vegas. I couldn't wait to sit down for hours and tell everyone how good this game is...alas it isn't so. The graphics for one are mediocre at best with game such\",\n",
       " '',\n",
       " '',\n",
       " '',\n",
       " '',\n",
       " '',\n",
       " '',\n",
       " '',\n",
       " '',\n",
       " '',\n",
       " '… Expand',\n",
       " '90 of 139 users found this helpful',\n",
       " \"All this user's reviews\"]"
      ]
     },
     "execution_count": 126,
     "metadata": {},
     "output_type": "execute_result"
    }
   ],
   "source": [
    "sample.split('\\n')"
   ]
  },
  {
   "cell_type": "code",
   "execution_count": 7,
   "metadata": {},
   "outputs": [],
   "source": [
    "users=[]\n",
    "scores=[]"
   ]
  },
  {
   "cell_type": "code",
   "execution_count": 8,
   "metadata": {},
   "outputs": [],
   "source": [
    "for i in range(100):\n",
    "    users.append((reviews[i].text).split('\\n')[0])\n",
    "    scores.append(int((reviews[i].text).split('\\n')[2]))"
   ]
  },
  {
   "cell_type": "code",
   "execution_count": 17,
   "metadata": {},
   "outputs": [],
   "source": [
    "#scores"
   ]
  },
  {
   "cell_type": "code",
   "execution_count": null,
   "metadata": {},
   "outputs": [],
   "source": []
  },
  {
   "cell_type": "code",
   "execution_count": 32,
   "metadata": {},
   "outputs": [
    {
     "data": {
      "text/plain": [
       "([10,\n",
       "  9,\n",
       "  9,\n",
       "  9,\n",
       "  9,\n",
       "  10,\n",
       "  10,\n",
       "  10,\n",
       "  10,\n",
       "  10,\n",
       "  10,\n",
       "  10,\n",
       "  10,\n",
       "  9,\n",
       "  10,\n",
       "  10,\n",
       "  10,\n",
       "  10,\n",
       "  10,\n",
       "  9,\n",
       "  10,\n",
       "  10,\n",
       "  10,\n",
       "  10,\n",
       "  10,\n",
       "  10,\n",
       "  10,\n",
       "  10,\n",
       "  10,\n",
       "  10,\n",
       "  9,\n",
       "  10,\n",
       "  10,\n",
       "  10,\n",
       "  10,\n",
       "  10,\n",
       "  10,\n",
       "  10,\n",
       "  10,\n",
       "  10,\n",
       "  10,\n",
       "  10,\n",
       "  10,\n",
       "  10,\n",
       "  10,\n",
       "  10,\n",
       "  10,\n",
       "  10,\n",
       "  10,\n",
       "  10,\n",
       "  10,\n",
       "  10,\n",
       "  10,\n",
       "  10,\n",
       "  10,\n",
       "  10,\n",
       "  10,\n",
       "  10,\n",
       "  10,\n",
       "  10,\n",
       "  10,\n",
       "  10,\n",
       "  10,\n",
       "  10,\n",
       "  10,\n",
       "  10,\n",
       "  10,\n",
       "  10,\n",
       "  10,\n",
       "  10,\n",
       "  10,\n",
       "  10,\n",
       "  10,\n",
       "  10,\n",
       "  10,\n",
       "  10,\n",
       "  10,\n",
       "  8,\n",
       "  10,\n",
       "  10,\n",
       "  10,\n",
       "  10,\n",
       "  10,\n",
       "  10,\n",
       "  10,\n",
       "  10,\n",
       "  7,\n",
       "  10,\n",
       "  6,\n",
       "  8,\n",
       "  10,\n",
       "  10,\n",
       "  9,\n",
       "  10,\n",
       "  10,\n",
       "  10,\n",
       "  8,\n",
       "  6,\n",
       "  10,\n",
       "  10],\n",
       " ['Ico320',\n",
       "  'Carda1972',\n",
       "  'Nightscape',\n",
       "  'ScottIsFire',\n",
       "  'Volitile88',\n",
       "  'Rost30555',\n",
       "  'Sloth22200',\n",
       "  'Automaton89',\n",
       "  'Pappayappa550',\n",
       "  'Daxter297',\n",
       "  'Grodd885',\n",
       "  'JakeWebbMedia',\n",
       "  'Fulcan',\n",
       "  'monkeykid',\n",
       "  'Springman440',\n",
       "  'Lunala430',\n",
       "  'xBroken2',\n",
       "  'Hawkeye999888',\n",
       "  'Chell210',\n",
       "  'sityoazzdown',\n",
       "  'Mawman220',\n",
       "  'Maxattack4',\n",
       "  'Ronery',\n",
       "  'bebekgoyeng',\n",
       "  'Sackowacko86',\n",
       "  'Cheetah23444',\n",
       "  'Olimar660',\n",
       "  'Mrfreeze689',\n",
       "  'Koopatroopa566',\n",
       "  'Mysteron89999',\n",
       "  'Clintvindet',\n",
       "  'Groot650',\n",
       "  'Chillywilly23',\n",
       "  'Banjo665',\n",
       "  'Akuaku17',\n",
       "  'Sweethtooth17',\n",
       "  'Billybob2',\n",
       "  'frinkL7',\n",
       "  'Hafner',\n",
       "  'Dingerdigger',\n",
       "  'Ultron790',\n",
       "  'Ludens322',\n",
       "  'Ragerover',\n",
       "  'LuisOtavioCBG',\n",
       "  'Joker340',\n",
       "  'Manc_Prophecy',\n",
       "  'Sikhiu',\n",
       "  'Sonofsause',\n",
       "  'Robocobo170',\n",
       "  'maverics',\n",
       "  'shinjaber',\n",
       "  'Nam12399',\n",
       "  'Killerbee23000',\n",
       "  'Crashtastic',\n",
       "  'cgsaunders97',\n",
       "  'Gorillachilla',\n",
       "  'Diamonddog78',\n",
       "  'peaceout023',\n",
       "  'Melancolie',\n",
       "  'Stripe880',\n",
       "  'Humanz23333',\n",
       "  'Spyro640',\n",
       "  'Drax250',\n",
       "  'Unrealtairo',\n",
       "  'Mistergrim32',\n",
       "  'Gamexpert',\n",
       "  'Bision830',\n",
       "  'Nataraja',\n",
       "  'BShaps',\n",
       "  'Doug9055',\n",
       "  'Samyar91',\n",
       "  'Dimbirdy',\n",
       "  'Skullbasher230',\n",
       "  'franzqq',\n",
       "  'ADFXOzymandias',\n",
       "  'georgedamonster',\n",
       "  'VidyaBum',\n",
       "  'Goo4you',\n",
       "  'elpoyolocho',\n",
       "  'Dyne',\n",
       "  'Daniel_Keelh',\n",
       "  'DeadFaelziNn',\n",
       "  'Dankilicious',\n",
       "  'BlakDak666',\n",
       "  'Kenmei',\n",
       "  'azarielrdm',\n",
       "  'roman_emperor',\n",
       "  'MrAptronym',\n",
       "  'DarkMagix',\n",
       "  'ByYuxiSs',\n",
       "  'Keylos',\n",
       "  'GamErik13',\n",
       "  'Ishi123',\n",
       "  'Sabs',\n",
       "  'Shaileen',\n",
       "  'MistyFalls',\n",
       "  'Malus_',\n",
       "  'merryinc',\n",
       "  'Multipleman',\n",
       "  'nazgul_tv2'])"
      ]
     },
     "execution_count": 32,
     "metadata": {},
     "output_type": "execute_result"
    }
   ],
   "source": [
    "metacritic_scrape.get_users_scores(\"Persona 5\")"
   ]
  },
  {
   "cell_type": "code",
   "execution_count": null,
   "metadata": {},
   "outputs": [],
   "source": []
  }
 ],
 "metadata": {
  "kernelspec": {
   "display_name": "Python 3",
   "language": "python",
   "name": "python3"
  },
  "language_info": {
   "codemirror_mode": {
    "name": "ipython",
    "version": 3
   },
   "file_extension": ".py",
   "mimetype": "text/x-python",
   "name": "python",
   "nbconvert_exporter": "python",
   "pygments_lexer": "ipython3",
   "version": "3.6.5"
  }
 },
 "nbformat": 4,
 "nbformat_minor": 2
}
